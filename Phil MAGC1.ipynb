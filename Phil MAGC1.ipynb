{
 "cells": [
  {
   "cell_type": "markdown",
   "id": "fb66c45c-5809-4bfd-8a83-5cd8b9fd09c8",
   "metadata": {},
   "source": [
    "### Build solutions\n"
   ]
  },
  {
   "cell_type": "markdown",
   "id": "97ec770a-f123-4ae0-97eb-e426a67c1e1f",
   "metadata": {},
   "source": [
    "$\\frac{dC}{dt}=V_c+W_c+MX_m-C(O_c+P_c)$\n",
    "\n",
    "$\\frac{dM}{dt}=W_m-MX_m$\n",
    "\n",
    "$\\frac{dN}{dt}=W_n+NO_n$\n",
    "\n",
    "$\\frac{dW}{dt}=V_w+E_w+2MX_m-WR_w$\n",
    "\n",
    "$C(0)=C_0$\n",
    "\n",
    "$M(0)=M_0$\n",
    "\n",
    "$N(0)=N_0$\n",
    "\n",
    "$W(0)=W_0$"
   ]
  },
  {
   "cell_type": "markdown",
   "id": "8ba2e0fe-d7ee-4c7b-8e6e-71b41f77c3ec",
   "metadata": {},
   "source": [
    "### Define dimensionless variables"
   ]
  },
  {
   "cell_type": "markdown",
   "id": "744dee8b-14b7-4afc-9bd9-f1d7ecebc644",
   "metadata": {},
   "source": [
    "$t = [t]t*$\n",
    "\n",
    "$C = [C]C*$\n",
    "\n",
    "$M = [M]M*$\n",
    "\n",
    "$N = [N]N*$\n",
    "\n",
    "$W = [W]W*$"
   ]
  },
  {
   "cell_type": "markdown",
   "id": "9b9b3cee-a10d-4fd9-9587-cc7d82671712",
   "metadata": {},
   "source": [
    "### Substitute into equation"
   ]
  },
  {
   "cell_type": "markdown",
   "id": "4ce71015-e6ee-42ae-a2df-fa44f48f0dc6",
   "metadata": {},
   "source": [
    "$\\frac{[C]}{[t]}\\frac{dC^*}{dt^*}=V_c+W_c+[M]M^*X_m-[C]C^*(O_c+P_c)$\n",
    "\n",
    "$\\frac{[M]}{[t]}\\frac{dM^*}{dt^*}=W_m-[M]M^*X_m$\n",
    "\n",
    "$\\frac{[N]}{[t]}\\frac{dN^*}{dt^*}=W_n+[N]N^*O_n$\n",
    "\n",
    "$\\frac{[W]}{[t]}\\frac{dW^*}{dt^*}=V_w+E_w+2[M]M^*X_m-[W]W^*R_w$\n",
    "\n",
    "$[C]C^*(0)=C_0$\n",
    "\n",
    "$[M]M^*(0)=M_0$\n",
    "\n",
    "$[N]N^*(0)=N_0$\n",
    "\n",
    "$[W]W^*(0)=W_0$"
   ]
  },
  {
   "cell_type": "markdown",
   "id": "b8f0f10e-ccf6-4add-af36-441225d862fa",
   "metadata": {},
   "source": [
    "### Divide all the equations by the coefficients of the highest order polynomial or derivative term."
   ]
  },
  {
   "cell_type": "markdown",
   "id": "384e5e05-d3ac-4cf9-8935-4c04622b3bb4",
   "metadata": {},
   "source": [
    "$\\frac{dC^*}{dt^*}=\\frac{[t]}{[C]}(V_c+W_c+[M]M^*X_m)-[t]C^*(O_c+P_c)$\n",
    "\n",
    "$\\frac{dM^*}{dt^*}=\\frac{[t]}{[M]}W_m-[t]M^*X_m$\n",
    "\n",
    "$\\frac{dN^*}{dt^*}=\\frac{[t]}{[N]}W_n+[t]N^*O_n$\n",
    "\n",
    "$\\frac{dW^*}{dt^*}=\\frac{[t]}{[W]}(V_w+E_w+2[M]MX_m)-[t]W^*R_w$\n",
    "\n",
    "$C^*(0)=\\frac{C_0}{[C]}$\n",
    "\n",
    "$M^*(0)=\\frac{M_0}{[M]}$\n",
    "\n",
    "$N^*(0)=\\frac{N_0}{[N]}$\n",
    "\n",
    "$W^*(0)=\\frac{W_0}{[W]}$"
   ]
  },
  {
   "cell_type": "markdown",
   "id": "3d1f37d5-fa88-4369-8622-20d0ede26aab",
   "metadata": {},
   "source": [
    "### Choose a scaling factor for each variable"
   ]
  },
  {
   "cell_type": "markdown",
   "id": "1d8892ec-7fe3-48a4-9484-966153b9bf4f",
   "metadata": {},
   "source": [
    "$[t]=\\frac{1}{V_c+W_c+[M]X_m}$\n",
    "\n",
    "$[t]=\\frac{1}{O_c+P_c}$\n",
    "\n",
    "$[t]=\\frac{1}{W_m}$\n",
    "\n",
    "$[t]=\\frac{1}{X_m}$\n",
    "\n",
    "$[t]=\\frac{1}{W_n}$\n",
    "\n",
    "$[t]=\\frac{1}{O_n}$\n",
    "\n",
    "$[t]=\\frac{1}{V_w+E_w+2MX_m}$\n",
    "\n",
    "$[t]=\\frac{1}{R_w}$"
   ]
  },
  {
   "cell_type": "markdown",
   "id": "f61a7141-86c5-4351-a61a-7dab6c132929",
   "metadata": {},
   "source": [
    "We'll choose $[t]=\\frac{1}{O_c+P_c}$ because we will assume plant and ocean CO2 absorption is never zero."
   ]
  },
  {
   "cell_type": "markdown",
   "id": "b0f6634b-6f6c-469c-a8e7-fa13c705f6c1",
   "metadata": {},
   "source": [
    "### Rewrite the equations"
   ]
  },
  {
   "cell_type": "markdown",
   "id": "ae0a4458-0a7e-4a06-a838-ce5126e31ea6",
   "metadata": {},
   "source": [
    "$\\frac{dC^*}{dt^*}=\\frac{1}{[C](O_c+P_c)}(V_c+W_c)+\\frac{[M]M^*X_m}{[C](O_c+P_c)}-C^*$\n",
    "\n",
    "$\\frac{dM^*}{dt^*}=\\frac{1}{[M](O_c+P_c)}W_m-\\frac{1}{O_c+P_c}M^*X_m$\n",
    "\n",
    "$\\frac{dN^*}{dt^*}=\\frac{1}{[N](O_c+P_c)}W_n+\\frac{1}{O_c+P_c}N^*O_n$\n",
    "\n",
    "$\\frac{dW^*}{dt^*}=\\frac{1}{[W](O_c+P_c)}(V_w+E_w)+\\frac{2[M]M^*X_m}{[W](O_c+P_c)}-\\frac{1}{O_c+P_c}W^*R_w$"
   ]
  },
  {
   "cell_type": "markdown",
   "id": "4ecc4785-3568-40c7-bb31-98d0932a5f91",
   "metadata": {},
   "source": [
    "Let $[C]=\\frac{V_c+W_c}{O_c+P_c}$\n",
    "\n",
    "$[M]=\\frac{W_m}{O_c+P_c}$\n",
    "\n",
    "$[N]=\\frac{W_n}{O_c+P_c}$\n",
    "\n",
    "$[W]=\\frac{V_w+E_w}{O_c+P_c}$"
   ]
  },
  {
   "cell_type": "markdown",
   "id": "3355b3b7-3bb6-4542-abd9-14f696f1d831",
   "metadata": {},
   "source": [
    "$\\frac{dC^*}{dt^*}=1+\\frac{W_mX_m}{(V_c+W_c)(O_c+P_c)}M^*-C^*$\n",
    "\n",
    "$\\frac{dM^*}{dt^*}=1-\\frac{X_m}{O_c+P_c}M^*$\n",
    "\n",
    "$\\frac{dN^*}{dt^*}=1-\\frac{O_n}{O_c+P_c}N^*$\n",
    "\n",
    "$\\frac{dW^*}{dt^*}=1+\\frac{2W_mX_m}{(V_w+E_w)(O_c+P_c)}M^*-\\frac{1}{O_c+P_c}W^*R_w$"
   ]
  },
  {
   "cell_type": "markdown",
   "id": "2af550fd-6504-4e02-acff-0ad9f0e70a13",
   "metadata": {},
   "source": [
    "Let $\\alpha = \\frac{W_mX_m}{(V_c+W_c)(O_c+P_c)}$\n",
    "\n",
    "$\\beta = \\frac{X_m}{O_c+P_c}$\n",
    "\n",
    "$\\gamma = \\frac{O_n}{O_c+P_c}$\n",
    "\n",
    "$\\delta = \\frac{2W_mX_m}{(V_w+E_w)(O_c+P_c)}$\n",
    "\n",
    "$\\epsilon = \\frac{R_w}{O_c+P_c}$"
   ]
  },
  {
   "cell_type": "code",
   "execution_count": 87,
   "id": "fa928d79-5eeb-4f67-a54a-189086fd3c42",
   "metadata": {},
   "outputs": [],
   "source": [
    "import numpy as np\n",
    "import scipy.integrate as spi\n",
    "import matplotlib.pyplot as plt"
   ]
  },
  {
   "cell_type": "code",
   "execution_count": 177,
   "id": "c7f4f68c-2e26-4912-bb6d-839d5f0a9e5b",
   "metadata": {},
   "outputs": [],
   "source": [
    "# u[0] = C*, u[1] = M*, u[2] = N*, u[3] = W*\n",
    "def f(u, t):\n",
    "    dudt = np.zeros(4)\n",
    "    dudt[0] = 1 + alpha * u[1] - u[0]\n",
    "    dudt[1] = 1 - beta * u[1]\n",
    "    dudt[2] = 1 + gamma * u[2]\n",
    "    dudt[3] = 1 + delta * u[1] - epsilon * u[3]\n",
    "    return dudt"
   ]
  },
  {
   "cell_type": "code",
   "execution_count": 179,
   "id": "e735c5c5-2573-47d3-b63c-98323f82942b",
   "metadata": {},
   "outputs": [],
   "source": [
    "# Parameter values\n",
    "Vc = 0.036\n",
    "Wc = 0.2\n",
    "Oc = 0.00288\n",
    "Pc = 0.08\n",
    "\n",
    "Wm = 0.00458\n",
    "Xm = 1 / 12\n",
    "\n",
    "Wn = 0.00004\n",
    "On = 0.1\n",
    "\n",
    "Vw = 0.2\n",
    "Ew = 25.291\n",
    "Rw = 24.233\n",
    "\n",
    "C0 = 422.9\n",
    "M0 = 1.92\n",
    "N0 = 0.33\n",
    "W0 = 4000"
   ]
  },
  {
   "cell_type": "code",
   "execution_count": 181,
   "id": "684fd173-32df-461f-b2d2-db0a1d237d95",
   "metadata": {},
   "outputs": [],
   "source": [
    "Cb = (Vc + Wc) / (Oc + Pc)\n",
    "Mb = Wm / (Oc + Pc)\n",
    "Nb = Wn / (Oc + Pc)\n",
    "Wb = (Vw + Ew) / (Oc + Pc)\n",
    "\n",
    "alpha = Xm * Mb / (Vc + Wc)\n",
    "beta = Xm / (Oc + Pc)\n",
    "gamma = On / (Oc + Pc)\n",
    "delta = 2 * Xm * Mb / (Vw + Ew)\n",
    "epsilon = Rw / (Oc + Pc)\n",
    "\n",
    "Ci = C0 / Cb\n",
    "Mi = M0 / Mb\n",
    "Ni = N0 / Nb\n",
    "Wi = W0 / Wb"
   ]
  },
  {
   "cell_type": "code",
   "execution_count": 183,
   "id": "06ce2bf2-40c9-429d-9e4c-f0747f4292cc",
   "metadata": {},
   "outputs": [],
   "source": [
    "t = np.linspace(0, 50, 100)\n",
    "u0 = [Ci, Mi, Ni, Wi]\n",
    "u = spi.odeint(f, u0, t)"
   ]
  },
  {
   "cell_type": "code",
   "execution_count": 201,
   "id": "d81588e0-9edb-4e85-b6fe-42f60fc53135",
   "metadata": {},
   "outputs": [
    {
     "data": {
      "image/png": "[encoded data removed]",
      "text/plain": [
       "<Figure size 640x480 with 1 Axes>"
      ]
     },
     "metadata": {},
     "output_type": "display_data"
    }
   ],
   "source": [
    "plt.plot(t, u[:, 0], 'r')\n",
    "plt.plot(t, u[:, 1], 'k')\n",
    "plt.plot(t, u[:, 2], 'b')\n",
    "plt.plot(t, u[:, 3], 'g')\n",
    "plt.title('Concentration of CO2, CH4, N2O, and H2O over time')\n",
    "plt.xlabel('time (years)')\n",
    "plt.ylabel('concentration (ppm)')\n",
    "plt.legend(['CO2', 'CH4', 'N2O', 'H2O'])\n",
    "plt.grid(True)\n",
    "plt.show()"
   ]
  },
  {
   "cell_type": "code",
   "execution_count": null,
   "id": "769c4554-03bd-440b-bd38-33c8461682ad",
   "metadata": {},
   "outputs": [],
   "source": []
  }
 ],
 "metadata": {
  "kernelspec": {
   "display_name": "Python 3 (ipykernel)",
   "language": "python",
   "name": "python3"
  },
  "language_info": {
   "codemirror_mode": {
    "name": "ipython",
    "version": 3
   },
   "file_extension": ".py",
   "mimetype": "text/x-python",
   "name": "python",
   "nbconvert_exporter": "python",
   "pygments_lexer": "ipython3",
   "version": "3.11.7"
  }
 },
 "nbformat": 4,
 "nbformat_minor": 5
}
