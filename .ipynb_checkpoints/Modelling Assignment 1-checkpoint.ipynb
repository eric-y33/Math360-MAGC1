{
 "cells": [
  {
   "cell_type": "markdown",
   "id": "52209e38-ac91-4835-882f-8d7eea6ab11a",
   "metadata": {},
   "source": [
    "Pavitra Bhargavi Allamaraju, Rowan Cake, Phil Sukparangsee, and Eric Yee"
   ]
  },
  {
   "cell_type": "markdown",
   "id": "bcc8cf21-2435-4045-bda9-d04ed4a59b15",
   "metadata": {},
   "source": [
    "# Packages Used"
   ]
  },
  {
   "cell_type": "code",
   "execution_count": 1,
   "id": "9b303c3e-b9ed-4c3c-91a9-85e0a521c6fb",
   "metadata": {},
   "outputs": [],
   "source": [
    "#import packages\n",
    "import numpy as np\n",
    "import matplotlib.pyplot as plt\n",
    "import scipy.integrate as spi"
   ]
  },
  {
   "cell_type": "markdown",
   "id": "4a476f83-38e8-441d-bc68-0212be447c44",
   "metadata": {},
   "source": [
    "# Problem Statement\n",
    "\n",
    "Construct a deterministic mathematical model that describes how the concentrations of the four major greenhouse gases, namely, carbon dioxide (CO2), methane (CH4), nitrous oxide (N2O), and water vapour (H2O) change over time in Earth’s atmosphere.\n",
    "The model must account for natural (volcanoes, wetlands, oceans, plants) processes that add or remove these gases, forming a dynamic balance that governs atmospheric greenhouse gas levels."
   ]
  },
  {
   "cell_type": "markdown",
   "id": "f1cc3c8b-ff23-4e7f-b750-ca1a455fbe4e",
   "metadata": {},
   "source": [
    "# Variables and Parameters\n",
    "\n",
    "| Description | Symbol | Units | Dimensions | Type | Value |\n",
    "| --- | ---| --- | --- | --- | --- |\n",
    "| concentration of $CO_2$, $CH_4$, $N_2 O$, $H_2 O$ | $C$,$M$,$N$,$W$ | $\\text{ppm}$ | $1$ | dependent variable | N/A |\n",
    "| time | $t$ | $\\text{years}$ | $T$ | independent variable | N/A |\n",
    "| volcanic source rates of $CO_2$, $H_2 O$ | $V_c$, $V_w$ | $\\frac{\\text{ppm}}{\\text{years}}$ | $\\frac{1}{T}$ | parameter | $0.036^{[15,19]}$, $0.2^{[4]}$ |\n",
    "| wetland source rates of $CO_2$, $CH_4$, $N_2 O$ | $W_c$, $W_m$, $W_n$ | $\\frac{\\text{ppm}}{\\text{years}}$ | $\\frac{1}{T}$ | parameter | $0.58^{[18]}$, $0.00458^{[18]}$, $0.00004^{[20]}$ |\n",
    "| net evaporation source rate of $H_2 O$ | $E_w$ | $\\frac{\\text{ppm}}{\\text{years}}$ | $\\frac{1}{T}$ | parameter | $25.291^{[7,9]}$ |\n",
    "| loss rate of methane by oxidation | $X_m$ | $\\frac{1}{\\text{years}}$ | $\\frac{1}{T}$ | parameter | $0.083^{[11]}$ |\n",
    "| ocean absorption rate for $CO_2$, $N_2 O$ | $O_c$, $O_n$ | $\\frac{1}{\\text{years}}$ | $\\frac{1}{T}$ | parameter | $0.0028^{[6]}$, $0.0031^{[2]}$|\n",
    "| plant uptake rate for $CO_2$ | $P_c$ | $\\frac{1}{\\text{years}}$ | $\\frac{1}{T}$ | parameter | $0.08^{[8,5,16]}$ |\n",
    "| precipitation removal rate of $H_2 O$ | $R_w$ | $\\frac{1}{\\text{years}}$ | $\\frac{1}{T}$ | parameter | $24.23^{[12,3,17,19]}$ |\n",
    "| initial concentration of $CO_2$, $CH_4$, $N_2O$, $H_2O$ | $C_0, M_0, N_0, W_0$ | $\\text{ppm}$ | $1$ | constant | $422.8^{[10]}$, $1.92^{[13,14]}$, $0.33^{[14]}$, $4000^{[1]}$ |"
   ]
  },
  {
   "cell_type": "markdown",
   "id": "32a91611-3360-4053-9fda-ada5fdfa3562",
   "metadata": {},
   "source": [
    "# Assumptions and Constraints\n",
    "\n",
    "- The atmosphere is well-mixed, meaning spatial variations are neglected.\n",
    "- Source and sink rates are constant over time.\n",
    "- Methane oxidation follows a first-order decay law with fixed stoichiometry:\n",
    "$$CH_4 + 2 O_2 \\rightarrow CO_2 + 2 H_2 O .$$\n",
    "- Oxygen concentration is large and effectively constant.\n",
    "- Biological and oceanic absorption processes act as linear relaxations toward equilibrium states.\n",
    "- The model neglects short-term weather variability, focusing on multi-year to decadal trends.\n",
    "- Atmospheric temperature and pressure are constant.\n",
    "- Greenhouse gases produced or removed by human activities are ignored.\n",
    "- The atmosphere is a closed system.\n",
    "- The atmosphere is only one layer and it has a constant volume.\n",
    "- All coefficients are constant in time that don't vary seasonally or by year."
   ]
  },
  {
   "cell_type": "markdown",
   "id": "de03ad4f-77f9-4791-ae28-d7ada989938b",
   "metadata": {},
   "source": [
    "# Building the Solution\n",
    "\n",
    "We treat the atmosphere as a single, well-mixed box. For each greenhouse gas, the rate of change of its concentration equals **sources minus sinks**. Many sources act independently with a constant rate, while many sinks absorb in proportion to the concentration of gas in the atmosphere.\n",
    "\n",
    "**$CO_2$ balance:**\n",
    "\n",
    "Natural sources add $CO_2$ through volcanic and wetland emissions at rates $(V_c)$ and $(W_c)$. Oxidation of methane produces one molecule of $CO_2$ per $CH_4$, contributing an additional source $(+X_m M)$. $CO_2$ is removed by plants and oceans with first-order rates $(P_c)$ and $(O_c)$.  \n",
    "Hence, we have\n",
    "$$ \\frac{dC}{dt} = V_c + W_c + X_m M - (P_c + O_c)\\,C .$$\n",
    "\n",
    "**$CH_4$ balance:**\n",
    "\n",
    "Methane is supplied by wetlands $(W_m)$ and lost through oxidation with rate $(X_m M)$, so we have\n",
    "$$ \\frac{dM}{dt} = W_m - X_m\\,M  .$$\n",
    "\n",
    "**$N_2 O$ balance:**\n",
    "\n",
    "Nitrous oxide is emitted from wetlands $(W_n)$ and absorbed by the ocean at rate $(O_n N)$, so we have\n",
    "$$ \\frac{dN}{dt} = W_n - O_n\\,N .$$\n",
    "\n",
    "\n",
    "**$H_2 O$ balance:**\n",
    "\n",
    "Water vapour has sources from volcanic activity $(V_w)$, net evaporation $(E_w)$, and production from methane oxidation (2 $H_2 O$ per $CH_4$ oxidized, giving $(+2X_m M)$. It is removed by precipitation at rate $(R_w W)$, so we have\n",
    "$$ \\frac{dW}{dt} = V_w + E_w + 2X_m\\,M - R_w\\,W .$$"
   ]
  },
  {
   "cell_type": "markdown",
   "id": "ac167ad1-216b-4481-9388-bb8516f9b60f",
   "metadata": {},
   "source": [
    "# Non-dimensionalization"
   ]
  },
  {
   "cell_type": "markdown",
   "id": "1b72270a-aaab-41e9-b0f2-d997d4e7aa13",
   "metadata": {},
   "source": [
    "We use the dimensional system to start and use non-dimensional variables $C^*, M^*, N^*, W^*,$ and $t^*$."
   ]
  },
  {
   "cell_type": "markdown",
   "id": "fd6685d2-645d-48e1-9dbc-586d77f36e73",
   "metadata": {},
   "source": [
    "After substituting them into governing equations and dividing by the coefficients of the derivatives, we get\n",
    "\n",
    "\\begin{equation}\n",
    "\\begin{aligned}\n",
    "\\frac{dC^*}{dt^*} &= V_c\\frac{[t]}{[C]} + W_c\\frac{[t]}{[C]} \n",
    "+ X_m\\frac{[M][t]}{[C]}M^* - (P_c + O_c)[t]C^*, \\\\\n",
    "\\frac{dM^*}{dt^*} &= W_m\\frac{[t]}{[M]} - X_m[t]M^*, \\\\\n",
    "\\frac{dN^*}{dt^*} &= W_n\\frac{[t]}{[N]} - O_n[t]N^*, \\\\\n",
    "\\frac{dW^*}{dt^*} &= V_w\\frac{[t]}{[W]} + E_w\\frac{[t]}{[W]} \n",
    "+ 2X_m\\frac{[M][t]}{[W]}M^* - R_w[t]W^*.\n",
    "\\end{aligned}\n",
    "\\end{equation}"
   ]
  },
  {
   "cell_type": "markdown",
   "id": "225b63a8-637d-454e-a660-9f5ab790c664",
   "metadata": {},
   "source": [
    "Now, we choose the time scale. Let \n",
    "\n",
    "$$\n",
    "[t] = \\frac{1}{P_c + O_c}\n",
    "$$\n",
    "\n",
    "since it is unlikely we'd want to model the system with both the ocean and plant absorption rates at 0."
   ]
  },
  {
   "cell_type": "markdown",
   "id": "91d6d14c-a2d3-496d-b805-9bb2535955c3",
   "metadata": {},
   "source": [
    "Let the concentration scales be\n",
    "\n",
    "$$\n",
    "[C] = \\frac{V_c + W_c}{P_c + O_c}, \\quad\n",
    "[M] = \\frac{W_m}{P_c + O_c}, \\quad\n",
    "[N] = \\frac{W_n}{P_c + O_c}, \\quad\n",
    "[W] = \\frac{V_w + E_w}{P_c + O_c}.\n",
    "$$"
   ]
  },
  {
   "cell_type": "markdown",
   "id": "07f7bf09-2827-4cca-b0df-6d0f5ad619fb",
   "metadata": {},
   "source": [
    "**Therefore, the final non-dimensionalized form is**\n",
    "\n",
    "$$\n",
    "\\frac{dC^*}{dt^*} = 1 + \n",
    "\\frac{X_m W_m}{(V_c + W_c)(P_c + O_c)}M^* - C^*, \\quad\n",
    "\\frac{dM^*}{dt^*} = 1 - \n",
    "\\frac{X_m}{P_c + O_c}M^*,\n",
    "$$\n",
    "$$\n",
    "\\frac{dN^*}{dt^*} = 1 - \n",
    "\\frac{O_n}{P_c + O_c}N^*, \\quad\n",
    "\\frac{dW^*}{dt^*} = 1 + \n",
    "\\frac{2X_m W_m M^*}{(P_c + O_c)(V_w + E_w)} - \n",
    "\\frac{R_w}{P_c + O_c}W^*.\n",
    "$$"
   ]
  },
  {
   "cell_type": "markdown",
   "id": "672099ad-a7bf-4936-9a5b-fb48321145ad",
   "metadata": {},
   "source": [
    "where the initial conditions are as follows:\n",
    "\n",
    "$$\n",
    "C^*(0) = \\frac{C_0(P_c + O_c)}{V_c + W_c}, \\quad\n",
    "M^*(0) = \\frac{M_0(P_c + O_c)}{W_m}, \\quad\n",
    "N^*(0) = \\frac{N_0(P_c + O_c)}{W_n}, \\quad\n",
    "W^*(0) = \\frac{W_0(P_c + O_c)}{V_w + E_w}.\n",
    "$$"
   ]
  },
  {
   "cell_type": "markdown",
   "id": "60b84cd5-478e-461a-8438-00089ddfc90a",
   "metadata": {},
   "source": [
    "# Simulation"
   ]
  },
  {
   "cell_type": "code",
   "execution_count": 2,
   "id": "389083dd-290f-403f-9188-b232d8364c34",
   "metadata": {},
   "outputs": [],
   "source": [
    "Vc, Vw = 0.036, 0.2                         # volcano source rates\n",
    "Wc, Wm, Wn = 0.58, 0.00458, 0.00004         # wetland source rates\n",
    "Ew = 25.291                                 # evaporation source rate\n",
    "Xm = 0.083                                  # methane oxidation rate\n",
    "Oc, On = 0.00288, 0.00312                   # ocean absorbtion rate\n",
    "Pc = 0.08                                   # plant uptake rate\n",
    "Rw = 24.233                                 # precipitation removal rate\n",
    "C0, M0, N0, W0 = 422.9, 1.92, 0.33, 4000.   # initial gas concentrations\n",
    "\n",
    "# nondimensionalized parameters\n",
    "\n",
    "C_units = (Vc+Wc)/(Oc+Pc)\n",
    "M_units = Wm/(Oc+Pc)\n",
    "N_units = Wn/(Oc+Pc)\n",
    "W_units = (Vw+Ew)/(Oc+Pc)\n",
    "\n",
    "C_star0 = C0 / C_units\n",
    "M_star0 = M0 / M_units\n",
    "N_star0 = N0 / N_units\n",
    "W_star0 = W0 / W_units"
   ]
  },
  {
   "cell_type": "code",
   "execution_count": 3,
   "id": "d61497d5-d9a9-492f-8b5e-cc72d399bb33",
   "metadata": {},
   "outputs": [],
   "source": [
    "# u[0] = C*, u[1] = M*, u[2] = N*, u[3] = W*\n",
    "def f(u,t):\n",
    "    dudt = np.zeros(4)\n",
    "    dudt[0] = 1 + (Xm/(Vc+Wc) * M_units) * u[1] - u[0]\n",
    "    dudt[1] = 1 - (Xm/(Oc+Pc)) * u[1]\n",
    "    dudt[2] = 1 - (On/(Oc+Pc)) * u[2]\n",
    "    dudt[3] = 1 + (2*Xm/(Vw+Ew) * M_units) * u[1] - (Rw/(Oc+Pc)) * u[3]\n",
    "    return dudt"
   ]
  },
  {
   "cell_type": "code",
   "execution_count": 4,
   "id": "c1619342-97a7-4c1d-bd19-423c98a8f51e",
   "metadata": {},
   "outputs": [
    {
     "data": {
      "image/png": "[encoded data removed]",
      "text/plain": [
       "<Figure size 600x300 with 2 Axes>"
      ]
     },
     "metadata": {},
     "output_type": "display_data"
    }
   ],
   "source": [
    "u0 = [C_star0, M_star0, N_star0, W_star0]\n",
    "\n",
    "time_sets = [\n",
    "    (np.linspace(0, 1.5, 1000), 'Short-term Behaviour'),\n",
    "    (np.linspace(0, 1000, 10000), 'Long-term Behaviour')\n",
    "]\n",
    "\n",
    "fig, axs = plt.subplots(1, 2, figsize=(6, 3))\n",
    "\n",
    "labels = ['CO₂', 'CH₄', 'N₂O', 'H₂O']\n",
    "styles = ['r', '-k', ':g', '-.b']\n",
    "\n",
    "for ax, (t, title) in zip(axs, time_sets):\n",
    "    u = spi.odeint(f, u0, t)\n",
    "    for i, (style, label) in enumerate(zip(styles, labels)):\n",
    "        ax.plot(t, u[:, i], style, label=label)\n",
    "    ax.set_title(title)\n",
    "    ax.set_xlabel('Time')\n",
    "    ax.set_ylabel('Concentration of Gas in Atmosphere')\n",
    "    ax.legend()\n",
    "\n",
    "plt.tight_layout()\n",
    "plt.show()"
   ]
  },
  {
   "cell_type": "code",
   "execution_count": 5,
   "id": "a6e55279-6868-4078-9171-3dafee0d1ca5",
   "metadata": {},
   "outputs": [
    {
     "name": "stdout",
     "output_type": "stream",
     "text": [
      "C02* steady state: 1.007435064935065\n",
      "CH4* steady state: 0.9985542168674698\n",
      "N20* steady state: 26.564102556095655\n",
      "H20* steady state: 0.0034213585733289765\n",
      "-----------------------------------------\n",
      "C02 steady state: 7.487693050193051\n",
      "CH4 steady state: 0.05518072289156626\n",
      "N20 steady state: 0.012820512816648484\n",
      "H20 steady state: 1.0522906780010732\n"
     ]
    }
   ],
   "source": [
    "print(\"C02* steady state: \"+str(u[-1,0])) # C*_infinity\n",
    "print(\"CH4* steady state: \"+str(u[-1,1])) # M*_infinity\n",
    "print(\"N20* steady state: \"+str(u[-1,2])) # N*_infinity\n",
    "print(\"H20* steady state: \"+str(u[-1,3])) # W*_infinity\n",
    "\n",
    "### Convert dimensionless variables back to base units\n",
    "print(\"-----------------------------------------\")\n",
    "print(\"C02 steady state: \"+str(u[-1,0]*C_units)) # C_infinity\n",
    "print(\"CH4 steady state: \"+str(u[-1,1]*M_units)) # M_infinity\n",
    "print(\"N20 steady state: \"+str(u[-1,2]*N_units)) # N_infinity\n",
    "print(\"H20 steady state: \"+str(u[-1,3]*W_units)) # W_infinity"
   ]
  },
  {
   "cell_type": "markdown",
   "id": "40d6f3f3-5c45-4959-a2a8-6ecc7331f2e4",
   "metadata": {},
   "source": [
    "# Analyze and Assess"
   ]
  },
  {
   "cell_type": "markdown",
   "id": "da3608f7-e4ae-4589-8283-f509ead4370a",
   "metadata": {},
   "source": [
    "#### Non Dimensional Plot Analysis:\n",
    "Our simulation shows that under constant source and sink rates, the four major greenhouse gases asymptotically approach a steady-state solution. If human processes that greatly accelerate gas concentration increases were considered, the model would likely not stabilize.\n",
    "\n",
    "H2O declines sharply and remains at ~0.003 because rapid precipitation cancels out the large evaporation rate. Additionally CO2 and CH4 achieve stability at ~1.00. CO2 and CH4 decay faster than N2O because of the large sink rate relative to their source rates, while N2O declines slowly and stabilizes at ~27.00 because the sink rate is much lower relative to its source rate by multiple orders of magnitude. \n",
    "\n",
    "#### Dimensional Analysis:\n",
    "Upon conversion back to the dimensional form of our model's steady states, we have H2O achieving a steady state at ~1.05ppm, CO2 at ~7.50ppm, CH4 at ~0.05ppm, and N2O at ~0.01ppm. Upon comparison of the steady states of the gases with their respective initial conditions, our model shows the gas with the biggest change in concentration will be H2O. Additionally, it is of note that our model predicts that the highest concentration out of all the greenhouse gases in the atmosphere will be CO2, which aligns with our expectations.\n",
    "\n",
    "#### Conclusion:\n",
    "To make a more accurate model, the assumption that all sink rates are constant should be removed, as a sink’s carrying capacity alters the uptake rate of gases based on how much it has already absorbed. Another point to consider is that the atmosphere has variable pressure and temperature, which means that gases do not mix instantaneously, resulting in uneven concentrations. A more complex model that captures spatial information would be needed."
   ]
  },
  {
   "cell_type": "markdown",
   "id": "ee04f943-0873-4137-ba46-f881dfbcb390",
   "metadata": {},
   "source": [
    "# Bibliography"
   ]
  },
  {
   "cell_type": "markdown",
   "id": "cdba1e9a-d61d-42ad-9b3b-bfd20841881c",
   "metadata": {},
   "source": [
    "1. “ATMO336 - Fall 2015.” Www.atmo.arizona.edu, 2015, [www.atmo.arizona.edu/students/courselinks/fall16/atmo336/lectures/sec1/composition.html](http://www.atmo.arizona.edu/students/courselinks/fall16/atmo336/lectures/sec1/composition.html).\n",
    "\n",
    "2. de la Paz, M., Velo, A., Steinfeldt, R., & Pérez, F. F. 2025. “The unaccounted oceanic sink of anthropogenic nitrous oxide and its relationship with anthropogenic carbon dioxide.” Global Biogeochemical Cycles, 39, e2024GB008417. [https://doi.org/10.1029/2024GB008417](https://doi.org/10.1029/2024GB008417)\n",
    "\n",
    "3. Duursma, Ek, and Mprm Boisson. “Global Oceanic and Atmospheric Oxygen Stability Considered in Relation to the Carbon-Cycle and to Different Time Scales.” Oceanologica Acta, vol. 17, no. 2, 1994, pp. 117–141, archimer.ifremer.fr/doc/00099/21024/. Accessed 22 Oct. 2025.\n",
    "\n",
    "4. “Geological Society - Volcanic Gases.” Www.geolsoc.org.uk, 2013, www.geolsoc.org.uk/ks3/gsl/education/resources/rockcycle/page3601.html.\n",
    "\n",
    "5. GONZALEZ-MELER, M. A., et al. “Plant Respiration and Elevated Atmospheric CO2 Concentration: Cellular Responses and Global Significance.” Annals of Botany, vol. 94, no. 5, 8 Sept. 2004, pp. 647–656, www.ncbi.nlm.nih.gov/pmc/articles/PMC4242210/, https://doi.org/10.1093/aob/mch189.\n",
    "\n",
    "6. Gruber, Nicolas, et al. “The Oceanic Sink for Anthropogenic CO2 from 1994 to 2007.” Science, vol. 363, no. 6432, 14 Mar. 2019, pp. 1193–1199, www.science.org/doi/10.1126/science.aau5153, https://doi.org/10.1126/science.aau5153.\n",
    "\n",
    "7. Haynes, W.M. “CRC Handbook of Chemistry and Physics: 1st Student Edition.” Biochemical Education, vol. 17, no. 2, Apr. 1989, p. 103, https://doi.org/10.1016/0307-4412(89)90022-8.\n",
    "\n",
    "8. Lai, Jiameng, et al. “Terrestrial Photosynthesis Inferred from Plant Carbonyl Sulfide Uptake.” Nature, vol. 634, no. 855-861, 16 Oct. 2024, https://doi.org/10.1038/s41586-024-08050-3. Accessed 31 Oct. 2024.\n",
    "\n",
    "9. “Lake Evaporation on the Rise.” Earthobservatory.nasa.gov, 12 July 2022, earthobservatory.nasa.gov/images/150067/lake-evaporation-on-the-rise.\n",
    "\n",
    "10. Lindsey, Rebecca. “Climate Change: Atmospheric Carbon Dioxide.” Climate.gov, National Oceanic and Atmospheric Administration, 21 May 2025, www.climate.gov/news-features/understanding-climate/climate-change-atmospheric-carbon-dioxide.\n",
    "\n",
    "11. Mitloehner, Frank. “Why Methane from Cattle Warms the Climate Differently than CO2 from Fossil Fuels.” CLEAR Center, 7 July 2020, clear.ucdavis.edu/explainers/why-methane-cattle-warms-climate-differently-co2-fossil-fuels.\n",
    "\n",
    "12. National Oceanic and Atmospheric Administration. “The Hydrologic Cycle.” Www.noaa.gov, 24 Mar. 2023, www.noaa.gov/jetstream/atmosphere/hydro.\n",
    "\n",
    "13. NOAA. “Global Monitoring Laboratory - Carbon Cycle Greenhouse Gases.” Gml.noaa.gov, 6 Mar. 2023, gml.noaa.gov/ccgg/trends_ch4/.\n",
    "\n",
    "14. NOAA. “The Atmosphere.” National Oceanic and Atmospheric Administration, 14 Apr. 2023, www.noaa.gov/jetstream/atmosphere.\n",
    "\n",
    "15. Observatory, Deep Carbon. “Scientists Quantify Global Volcanic CO2 Venting; Estimate Total Carbon on Earth.” Phys.org, 1 Oct. 2019, phys.org/news/2019-10-scientists-quantify-global-volcanic-co2.html.\n",
    "\n",
    "16. Pandey, Sudhanshu, et al. “Reduction in Earth’s Carbon Budget Imbalance.” Nature Communications, vol. 16, no. 1, 24 July 2025, pmc.ncbi.nlm.nih.gov/articles/PMC12289909/, https://doi.org/10.1038/s41467-025-61588-2. Accessed 22 Oct. 2025.\n",
    "\n",
    "17. Patterson, J B, and E C Morris. “Measurement of Absolute Water Density, 1 °c to 40 °C.” Metrologia, vol. 31, no. 4, 1 Jan. 1994, pp. 277–288, https://doi.org/10.1088/0026-1394/31/4/001.\n",
    "\n",
    "18. Sjögersten, Sofie, et al. “Tropical Wetlands: A Missing Link in the Global Carbon Cycle?” Global Biogeochemical Cycles, vol. 28, no. 12, Dec. 2014, pp. 1371–1386, www.ncbi.nlm.nih.gov/pmc/articles/PMC4461074/, https://doi.org/10.1002/2014gb004844.\n",
    "\n",
    "19. Trenberth, Kevin E., and Lesley Smith. “The Mass of the Atmosphere: A Constraint on Global Analyses.” Journal of Climate, vol. 18, no. 6, 15 Mar. 2005, pp. 864–875, [https://doi.org/10.1175/jcli-3299.1](https://doi.org/10.1175/jcli-3299.1).\n",
    "\n",
    "20. Li, Y., Tian, H., Yao, Y. et al. Increased nitrous oxide emissions from global lakes and reservoirs since the pre-industrial era. Nat Commun 15, 942 (2024). https://doi.org/10.1038/s41467-024-45061-0"
   ]
  }
 ],
 "metadata": {
  "kernelspec": {
   "display_name": "Python 3 (ipykernel)",
   "language": "python",
   "name": "python3"
  },
  "language_info": {
   "codemirror_mode": {
    "name": "ipython",
    "version": 3
   },
   "file_extension": ".py",
   "mimetype": "text/x-python",
   "name": "python",
   "nbconvert_exporter": "python",
   "pygments_lexer": "ipython3",
   "version": "3.13.5"
  }
 },
 "nbformat": 4,
 "nbformat_minor": 5
}
