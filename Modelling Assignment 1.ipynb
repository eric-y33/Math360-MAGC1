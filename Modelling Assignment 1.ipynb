{
 "cells": [
  {
   "cell_type": "markdown",
   "id": "089d6a45-a34a-43ba-bf99-6a0324149728",
   "metadata": {},
   "source": [
    "## Packages Used"
   ]
  },
  {
   "cell_type": "code",
   "execution_count": 8,
   "id": "85fb2378-40ec-4ae3-a5a6-b5fe26d3e871",
   "metadata": {},
   "outputs": [
    {
     "name": "stdout",
     "output_type": "stream",
     "text": [
      "packages imported\n"
     ]
    }
   ],
   "source": [
    "#import packages\n",
    "import numpy as np\n",
    "import matplotlib.pyplot as plt\n",
    "import pandas as pd\n",
    "import scipy.integrate as spi\n",
    "\n",
    "print(\"packages imported\")"
   ]
  },
  {
   "cell_type": "markdown",
   "id": "c4dd6d78-aa09-4dd3-b80b-059cfb07970d",
   "metadata": {},
   "source": [
    "## Problem Statement\n",
    "\n",
    "Construct a deterministic mathematical model that describes how the concentrations of the four major greenhouse gases, namely, carbon dioxide (CO2), methane (CH4), nitrous oxide (N2O), and water vapour (H2O) change over time in Earth’s atmosphere.\n",
    "The model must account for natural (volcanoes, wetlands, oceans, plants) processes that add or remove these gases, forming a dynamic balance that governs atmospheric greenhouse gas levels."
   ]
  },
  {
   "cell_type": "markdown",
   "id": "6c1ead3d-f654-4b92-9ebb-7dbfee5bb3b5",
   "metadata": {},
   "source": [
    "## Variables and Parameters\n",
    "\n",
    "| Description | Symbol | Units | Dimensions | Type |\n",
    "| --- | ---| --- | --- | --- |\n",
    "| concentration of $CO_2$ | $C$ | $\\text{ppm}$ | $1$ | dependent variable |\n",
    "| concentration of $CH_4$ | $M$ | $\\text{ppm}$ | $1$ | dependent variable |\n",
    "| concentration of $N_2 O$ | $N$ | $\\text{ppm}$ | $1$ | dependent variable |\n",
    "| concentration of $H_2 O$ | $W$ | $\\text{ppm}$ | $1$ | dependent variable |\n",
    "| time | $t$ | $\\text{years}$ | $T$ | independent variable |\n",
    "| volcanic source rates of $CO_2, H_2 O$ | $V_c, V_w$ | $\\frac{\\text{ppm}}{\\text{years}}$ | $\\frac{1}{T}$ | parameter |\n",
    "| wetland source rates of $CO_2, CH_4, N_2 O$ | $W_c, W_m, W_n$ | $\\frac{\\text{ppm}}{\\text{years}}$ | $\\frac{1}{T}$ | parameter |\n",
    "| net evaporation source rate of $H_2 O$ | $E_w$ | $\\frac{\\text{ppm}}{\\text{years}}$ | $\\frac{1}{T}$ | parameter |\n",
    "| loss rate of methane by oxidation | $X_m$ | $\\frac{1}{\\text{years}}$ | $\\frac{1}{T}$ | parameter |\n",
    "| ocean absorption rate for $CO_2, N_2 O$ | $O_c, O_n$ | $\\frac{1}{\\text{years}}$ | $\\frac{1}{T}$ | parameter |\n",
    "| plant uptake rate for $CO_2$ | $P_c$ | $\\frac{1}{\\text{years}}$ | $\\frac{1}{T}$ | parameter |\n",
    "| precipitation removal rate of $H_2 O$ | $R_w$ | $\\frac{1}{\\text{years}}$ | $\\frac{1}{T}$ | parameter |\n",
    "| initial concentration of $CO_2, CH_4, N_2 O, H_2 O$ | $C_0, M_0, N_0, W_0$ | $\\text{ppm}$ | $1$ | constant |"
   ]
  },
  {
   "cell_type": "markdown",
   "id": "31d9cc9e-6c1e-4fcc-93c6-fce84b07a1c9",
   "metadata": {},
   "source": [
    "## Assumptions and Constraints\n",
    "\n",
    "- The atmosphere is well-mixed, meaning spatial variations are neglected.\n",
    "- Source and sink rates are constant over time (can be modified for future scenarios).\n",
    "- Methane oxidation follows a first-order decay law with fixed stoichiometry:\n",
    "$$CH_4 + 2 O_2 \\rightarrow CO_2 + 2 H_2 O$$\n",
    "- Oxygen concentration is large and effectively constant\n",
    "- Biological and oceanic absorption processes act as linear relaxations toward equilibrium states.\n",
    "- The model neglects short-term weather variability, focusing on multi-year to decadal trends.\n",
    "- Atmospheric temperature and pressure are constant.\n",
    "- No anthropogenic factors (fossil fuels, agriculture, industry) are included.\n",
    "- Greenhouse gases produced or removed by human activities are ignored.\n",
    "- The atmosphere is a closed system.\n",
    "- The atmosphere is only one layer and it has a constant volume.\n",
    "- All coefficients are constant in time, that is, they don't vary seasonally or by year.\n",
    "- Temperature and pressure and constant so no Clausius–Clapeyron relation (thermodynamic relationship that describes the change in vapor pressure of a substance with temperature), carbonate-chemistry temperature feedbacks, and cloud microphysics are ignored."
   ]
  },
  {
   "cell_type": "markdown",
   "id": "e7565187-e065-45ee-80bc-34d0f71b9ef9",
   "metadata": {},
   "source": [
    "## Building the Solution\n",
    "\n",
    "We treat the atmosphere as a single, well-mixed box. For each greenhouse gas, the rate of change of its concentration equals **sources minus sinks**.\n",
    "\n",
    "**$CO_2$ balance**\n",
    "\n",
    "Natural sources add $CO_2$ through volcanic and wetland emissions at rates $(V_c)$ and $(W_c)$.  \n",
    "Oxidation of methane produces one molecule of $CO_2$ per $CH_4$, contributing an additional source $(+X_m M)$.  \n",
    "CO₂ is removed by plants and oceans with first-order rates $(P_c)$ and $(O_c)$.  \n",
    "Hence,\n",
    "\n",
    "$$ \\frac{dC}{dt} = V_c + W_c + X_m M - (P_c + O_c)\\,C $$\n",
    "\n",
    "**$CH_4$ balance**\n",
    "\n",
    "Methane is supplied by wetlands $(W_m)$ and lost through oxidation with rate $(X_m M)$:\n",
    "\n",
    "$$ \\frac{dM}{dt} = W_m - X_m\\,M  $$\n",
    "\n",
    "**$N_2 O$ balance**\n",
    "\n",
    "Nitrous oxide is emitted from wetlands $(W_n)$ and absorbed by the ocean at rate $(O_n N)$:\n",
    "\n",
    "$$ \\frac{dN}{dt} = W_n - O_n\\,N $$\n",
    "\n",
    "\n",
    "**$H_2 O$ balance**\n",
    "\n",
    "Water vapour has sources from volcanic activity $(V_w)$, net evaporation $(E_w)$,  \n",
    "and production from methane oxidation (2 $H_2 O$ per $CH_4$ oxidized, giving $(+2X_m M)$.  \n",
    "It is removed by precipitation at rate $(R_w W)$:\n",
    "\n",
    "$$ \\frac{dW}{dt} = V_w + E_w + 2X_m\\,M - R_w\\,W$$\n"
   ]
  },
  {
   "cell_type": "markdown",
   "id": "7219134a-26b1-4bee-bc5f-fe8f92f7e0ff",
   "metadata": {},
   "source": [
    "## Non-dimensionalization"
   ]
  },
  {
   "cell_type": "markdown",
   "id": "a25b06e7-76dd-475e-9553-29b689697710",
   "metadata": {},
   "source": [
    "We use the dimensional system to start and use non-dimensional variables $C^*, M^*, N^*, W^*, t^*$."
   ]
  },
  {
   "cell_type": "markdown",
   "id": "224ec966-14b8-496f-802e-f851bb9d3c93",
   "metadata": {},
   "source": [
    "On substituting them into the governing equation and simplifying, that is, dividing the respective equations by the coefficients of the derivative we get,\n",
    "\n",
    "\n",
    "\\begin{aligned}\n",
    "\\frac{dC^*}{dt^*} &= V_c\\frac{[t]}{[C]} + W_c\\frac{[t]}{[C]} \n",
    "+ X_m\\frac{[M][t]}{[C]}M^* - (P_c + O_c)[t]C^*, \\\\\n",
    "\\frac{dM^*}{dt^*} &= W_m\\frac{[t]}{[M]} - X_m[t]M^*, \\\\\n",
    "\\frac{dN^*}{dt^*} &= W_n\\frac{[t]}{[N]} - O_n[t]N^*, \\\\\n",
    "\\frac{dW^*}{dt^*} &= V_w\\frac{[t]}{[W]} + E_w\\frac{[t]}{[W]} \n",
    "+ 2X_m\\frac{[M][t]}{[W]}M^* - R_w[t]W^*.\n",
    "\\end{aligned}\n"
   ]
  },
  {
   "cell_type": "markdown",
   "id": "dca568a2-e78d-449b-901d-f9b00bf66c98",
   "metadata": {},
   "source": [
    "Now, we choose the time scale. Let \n",
    "\n",
    "$$\n",
    "[t] = \\frac{1}{P_c + O_c}.\n",
    "$$"
   ]
  },
  {
   "cell_type": "markdown",
   "id": "57d6499a-1a1c-4965-971f-17d524cf88a6",
   "metadata": {},
   "source": [
    "Let the concentration scales be\n",
    "\n",
    "$$\n",
    "[C] = \\frac{V_c + W_c}{P_c + O_c}, \\quad\n",
    "[M] = \\frac{W_m}{P_c + O_c}, \\quad\n",
    "[N] = \\frac{W_n}{P_c + O_c}, \\quad\n",
    "[W] = \\frac{V_w + E_w}{P_c + O_c}.\n",
    "$$"
   ]
  },
  {
   "cell_type": "markdown",
   "id": "8af00fbc-8779-45a1-bf66-5ef28c84fb84",
   "metadata": {},
   "source": [
    "**Therefore, the final non-dimensionalized form is**\n",
    "\n",
    "$$\n",
    "\\frac{dC^*}{dt^*} = 1 + \n",
    "\\frac{X_m W_m}{(V_c + W_c)(P_c + O_c)}M^* - C^*, \\quad\n",
    "\\frac{dM^*}{dt^*} = 1 - \n",
    "\\frac{X_m}{P_c + O_c}M^*, \\quad\n",
    "\\frac{dN^*}{dt^*} = 1 - \n",
    "\\frac{O_n}{P_c + O_c}N^*, \\quad\n",
    "\\frac{dW^*}{dt^*} = 1 + \n",
    "\\frac{2X_m W_m M^*}{(P_c + O_c)(V_w + E_w)} - \n",
    "\\frac{R_w}{P_c + O_c}W^*.\n",
    "$$"
   ]
  },
  {
   "cell_type": "markdown",
   "id": "c3a50e63-eb47-4f75-b8cb-9c5c709a8fc6",
   "metadata": {},
   "source": [
    "where the initial conditions are as follows:\n",
    "\n",
    "$$\n",
    "C^*(0) = \\frac{C_0(P_c + O_c)}{V_c + W_c}, \\quad\n",
    "M^*(0) = \\frac{M_0(P_c + O_c)}{W_m}, \\quad\n",
    "N^*(0) = \\frac{N_0(P_c + O_c)}{W_n}, \\quad\n",
    "W^*(0) = \\frac{W_0(P_c + O_c)}{V_w + E_w}.\n",
    "$$"
   ]
  },
  {
   "cell_type": "markdown",
   "id": "29418ad6-49e2-4afc-bcf7-a903117f9330",
   "metadata": {},
   "source": [
    "## Simulation"
   ]
  },
  {
   "cell_type": "code",
   "execution_count": 34,
   "id": "9a8ab5d3-1d0f-4867-bd8f-274fad292e53",
   "metadata": {},
   "outputs": [],
   "source": [
    "Vc, Vw = 0.036, 0.2                    # volcano source rates\n",
    "Wc, Wm, Wn = 0.58, 0.00458, 0.00004           # wetland source rates\n",
    "Ew = 25.291                             # evaporation source rate\n",
    "Xm = 1/12                             # methane oxidation rate\n",
    "Oc, On = 0.00288, 0.00312                    # ocean absorbtion rate\n",
    "Pc = 0.08                             # plant uptake rate\n",
    "Rw = 24.233                             # precipitation removal rate\n",
    "C0, M0, N0, W0 = 422.9, 1.92, 0.33, 4000.  # initial gas concentrations\n",
    "\n",
    "# nondimensionalized parameters\n",
    "\n",
    "C_units = (Vc+Wc)/(Oc+Pc)\n",
    "M_units = Wm/(Oc+Pc)\n",
    "N_units = Wn/(Oc+Pc)\n",
    "W_units = (Vw+Ew)/(Oc+Pc)\n",
    "\n",
    "alpha = Xm/(Vc+Wc) * M_units\n",
    "beta = Xm/(Oc+Pc)\n",
    "gamma = On/(Oc+Pc)\n",
    "omega = 2*Xm/(Vw+Ew) * M_units\n",
    "sigma = Rw/(Oc+Pc)\n",
    "\n",
    "C_star0 = C0 / C_units\n",
    "M_star0 = M0 / M_units\n",
    "N_star0 = N0 / N_units\n",
    "W_star0 = W0 / W_units"
   ]
  },
  {
   "cell_type": "code",
   "execution_count": 13,
   "id": "d0ec9390-2a76-4021-b560-0719841bbd1b",
   "metadata": {},
   "outputs": [],
   "source": [
    "# u[0] = C*, u[1] = M*, u[2] = N*, u[3] = W*\n",
    "def f(u,t):\n",
    "    dudt = np.zeros(4)\n",
    "    dudt[0] = 1 + alpha*u[1] - u[0]\n",
    "    dudt[1] = 1 - beta*u[1]\n",
    "    dudt[2] = 1 - gamma*u[2]\n",
    "    dudt[3] = 1 + omega*u[1] - sigma*u[3]\n",
    "    return dudt"
   ]
  },
  {
   "cell_type": "code",
   "execution_count": 32,
   "id": "03bb1fe7-fd6f-464e-ac33-9ea64e9ef6ee",
   "metadata": {},
   "outputs": [
    {
     "data": {
      "image/png": "[encoded data removed]",
      "text/plain": [
       "<Figure size 1200x400 with 2 Axes>"
      ]
     },
     "metadata": {},
     "output_type": "display_data"
    }
   ],
   "source": [
    "t1 = np.linspace(0, 1.5, 1000)\n",
    "u1 = spi.odeint(f, u0, t1)\n",
    "\n",
    "t2 = np.linspace(0, 1000, 10000)\n",
    "u2 = spi.odeint(f, u0, t2)\n",
    "\n",
    "fig, axs = plt.subplots(1, 2, figsize=(12, 4))\n",
    "\n",
    "axs[0].plot(t1, u1[:,0], 'r')\n",
    "axs[0].plot(t1, u1[:,1], '-k')\n",
    "axs[0].plot(t1, u1[:,2], ':g')\n",
    "axs[0].plot(t1, u1[:,3], '-.b')\n",
    "axs[0].set_title('Short-term Behaviour')\n",
    "axs[0].set_xlabel('Time')\n",
    "axs[0].set_ylabel('Concentration of Gas in Atmosphere')\n",
    "axs[0].legend(['CO₂','CH₄','N₂O','H₂O'])\n",
    "\n",
    "axs[1].plot(t2, u2[:,0], 'r')\n",
    "axs[1].plot(t2, u2[:,1], '-k')\n",
    "axs[1].plot(t2, u2[:,2], ':g')\n",
    "axs[1].plot(t2, u2[:,3], '-.b')\n",
    "axs[1].set_title('Long-term Behaviour')\n",
    "axs[1].set_xlabel('Time')\n",
    "axs[1].set_ylabel('Concentration of Gas in Atmosphere')\n",
    "axs[1].legend(['CO₂','CH₄','N₂O','H₂O'])\n",
    "\n",
    "plt.tight_layout()\n",
    "plt.show()"
   ]
  },
  {
   "cell_type": "markdown",
   "id": "f0bc7d55-290a-483f-b164-b560c0249905",
   "metadata": {},
   "source": [
    "## Analyze and Assess"
   ]
  },
  {
   "cell_type": "markdown",
   "id": "05b5b2f3-e6d5-4ddb-b1a1-ee3ede6a0363",
   "metadata": {},
   "source": [
    "**What do we understand from the plot we made?**\n",
    "\n",
    "Our simulation shows that under constant source and sink rates, the four major greenhouse gases asymptotically approach a steady-state solution. If human processes that greatly accelerate gas concentration increases were considered, the model would likely not stabilize.\n",
    "\n",
    "H2O declines sharply and remains nearly constant because rapid precipitation balances its large evaporation rate. CO2 and CH4 decay faster than N2O because of the large sink rate relative to their source rates, while N2O declines slowly and stabilizes above zero because the sink rate is much lower relative to its source rate by multiple orders of magnitude. \n",
    "\n",
    "To make a more accurate model, the assumption that all sink rates are constant should be removed, as a sink’s carrying capacity alters the uptake rate of gases based on how much it has already absorbed. Another point to consider is that the atmosphere has variable pressure and temperature, which means that gases do not mix instantaneously, resulting in uneven concentrations. A more complex model that captures spatial information will be needed."
   ]
  },
  {
   "cell_type": "markdown",
   "id": "f19ec818-4c1c-4d5d-acee-90b9953d19fe",
   "metadata": {},
   "source": [
    "## Bibliography"
   ]
  },
  {
   "cell_type": "code",
   "execution_count": null,
   "id": "8e498b8b-14b8-453f-823b-8f66853c989c",
   "metadata": {},
   "outputs": [],
   "source": []
  }
 ],
 "metadata": {
  "kernelspec": {
   "display_name": "Python 3 (ipykernel)",
   "language": "python",
   "name": "python3"
  },
  "language_info": {
   "codemirror_mode": {
    "name": "ipython",
    "version": 3
   },
   "file_extension": ".py",
   "mimetype": "text/x-python",
   "name": "python",
   "nbconvert_exporter": "python",
   "pygments_lexer": "ipython3",
   "version": "3.13.5"
  }
 },
 "nbformat": 4,
 "nbformat_minor": 5
}
