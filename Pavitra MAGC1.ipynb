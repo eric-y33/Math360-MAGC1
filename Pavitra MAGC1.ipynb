{
 "cells": [
  {
   "cell_type": "markdown",
   "id": "649e48e8-a0d1-4d7d-9904-619019238c50",
   "metadata": {},
   "source": [
    "# Modelling Assignment 1"
   ]
  },
  {
   "cell_type": "code",
   "execution_count": 8,
   "id": "85fb2378-40ec-4ae3-a5a6-b5fe26d3e871",
   "metadata": {},
   "outputs": [
    {
     "name": "stdout",
     "output_type": "stream",
     "text": [
      "packages imported\n"
     ]
    }
   ],
   "source": [
    "#import packages\n",
    "import numpy as np\n",
    "import matplotlib.pyplot as plt\n",
    "import pandas as pd\n",
    "import scipy.integrate as spi\n",
    "\n",
    "print(\"packages imported\")"
   ]
  },
  {
   "cell_type": "markdown",
   "id": "c4dd6d78-aa09-4dd3-b80b-059cfb07970d",
   "metadata": {},
   "source": [
    "## Problem Statement\n",
    "\n",
    "Construct a deterministic mathematical model that describes how the concentrations of the four major greenhouse gases, namely, carbon dioxide (CO2), methane (CH4), nitrous oxide (N2O), and water vapour (H2O) change over time in Earth’s atmosphere.\n",
    "The model must account for natural (volcanoes, wetlands, oceans, plants) processes that add or remove these gases, forming a dynamic balance that governs atmospheric greenhouse gas levels."
   ]
  },
  {
   "cell_type": "markdown",
   "id": "6c1ead3d-f654-4b92-9ebb-7dbfee5bb3b5",
   "metadata": {},
   "source": [
    "## Variables and Parameters\n",
    "\n",
    "| Description | Symbol | Units | Dimensions | Type |\n",
    "| --- | ---| --- | --- | --- |\n",
    "| concentration of $CO_2$ | $C$ | $\\text{ppm}$ | $1$ | dependent variable |\n",
    "| concentration of $CH_4$ | $M$ | $\\text{ppm}$ | $1$ | dependent variable |\n",
    "| concentration of $N_2 O$ | $N$ | $\\text{ppm}$ | $1$ | dependent variable |\n",
    "| concentration of $H_2 O$ | $W$ | $\\text{ppm}$ | $1$ | dependent variable |\n",
    "| time | $t$ | $\\text{years}$ | $T$ | independent variable |\n",
    "| volcanic source rates of $CO_2, H_2 O$ | $V_c, V_w$ | $\\frac{\\text{ppm}}{\\text{years}}$ | $\\frac{1}{T}$ | parameter |\n",
    "| wetland source rates of $CO_2, CH_4, N_2 O$ | $W_c, W_m, W_n$ | $\\frac{\\text{ppm}}{\\text{years}}$ | $\\frac{1}{T}$ | parameter |\n",
    "| net evaporation source rate of $H_2 O$ | $E_w$ | $\\frac{\\text{ppm}}{\\text{years}}$ | $\\frac{1}{T}$ | parameter |\n",
    "| loss rate of methane by oxidation | $X_m$ | $\\frac{1}{\\text{years}}$ | $\\frac{1}{T}$ | parameter |\n",
    "| ocean absorption rate for $CO_2, N_2 O$ | $O_c, O_n$ | $\\frac{1}{\\text{years}}$ | $\\frac{1}{T}$ | parameter |\n",
    "| plant uptake rate for $CO_2$ | $P_c$ | $\\frac{1}{\\text{years}}$ | $\\frac{1}{T}$ | parameter |\n",
    "| precipitation removal rate of $H_2 O$ | $R_w$ | $\\frac{1}{\\text{years}}$ | $\\frac{1}{T}$ | parameter |\n",
    "| initial concentration of $CO_2, CH_4, N_2 O, H_2 O$ | $C_0, M_0, N_0, W_0$ | $\\text{ppm}$ | $1$ | constant |"
   ]
  },
  {
   "cell_type": "markdown",
   "id": "31d9cc9e-6c1e-4fcc-93c6-fce84b07a1c9",
   "metadata": {},
   "source": [
    "## Assumptions and Constraints:\n",
    "\n",
    "- The atmosphere is well-mixed, meaning spatial variations are neglected.\n",
    "- Source and sink rates are constant over time (can be modified for future scenarios).\n",
    "- Methane oxidation follows a first-order decay law with fixed stoichiometry:\n",
    "$$CH_4 + 2 O_2 \\rightarrow CO_2 + 2 H_2 O$$\n",
    "- Oxygen concentration is large and effectively constant\n",
    "- Biological and oceanic absorption processes act as linear relaxations toward equilibrium states.\n",
    "- The model neglects short-term weather variability, focusing on multi-year to decadal trends.\n",
    "- Atmospheric temperature and pressure are constant.\n",
    "- No anthropogenic factors (fossil fuels, agriculture, industry) are included.\n",
    "- Greenhouse gases produced or removed by human activities are ignored.\n",
    "- The atmosphere is a closed system.\n",
    "- The atmosphere is only one layer and it has a constant volume.\n",
    "- All coefficients are constant in time, that is, they don't vary seasonally or by year.\n",
    "- Temperature and pressure and constant so no Clausius–Clapeyron relation (thermodynamic relationship that describes the change in vapor pressure of a substance with temperature), carbonate-chemistry temperature feedbacks, and cloud microphysics are ignored."
   ]
  },
  {
   "cell_type": "markdown",
   "id": "e7565187-e065-45ee-80bc-34d0f71b9ef9",
   "metadata": {},
   "source": [
    "## Building Solution:\n",
    "\n",
    "We treat the atmosphere as a single, well-mixed box. For each greenhouse gas, the rate of change of its concentration equals **sources minus sinks**.\n",
    "\n",
    "### CO₂ balance\n",
    "Natural sources add $CO_2$ through volcanic and wetland emissions at rates $(V_c)$ and $(W_c)$.  \n",
    "Oxidation of methane produces one molecule of $CO_2$ per $CH_4$, contributing an additional source $(+X_m M)$.  \n",
    "CO₂ is removed by plants and oceans with first-order rates $(P_c)$ and $(O_c)$.  \n",
    "Hence,\n",
    "\n",
    "$$ \\frac{dC}{dt} = V_c + W_c + X_m M - (P_c + O_c)\\,C $$\n",
    "\n",
    "### CH₄ balance\n",
    "Methane is supplied by wetlands $(W_m)$ and lost through oxidation with rate $(X_m M)$:\n",
    "\n",
    "$$ \\frac{dM}{dt} = W_m - X_m\\,M  $$\n",
    "\n",
    "### N₂O balance\n",
    "Nitrous oxide is emitted from wetlands $(W_n)$ and absorbed by the ocean at rate $(O_n N)$:\n",
    "\n",
    "$$ \\frac{dN}{dt} = W_n - O_n\\,N $$\n",
    "\n",
    "\n",
    "### H₂O balance\n",
    "Water vapour has sources from volcanic activity $(V_w)$, net evaporation $(E_w)$,  \n",
    "and production from methane oxidation (2 $H_2 O$ per $CH_4$ oxidized, giving $(+2X_m M)$.  \n",
    "It is removed by precipitation at rate $(R_w W)$:\n",
    "\n",
    "$$ \\frac{dW}{dt} = V_w + E_w + 2X_m\\,M - R_w\\,W$$\n"
   ]
  },
  {
   "cell_type": "markdown",
   "id": "7219134a-26b1-4bee-bc5f-fe8f92f7e0ff",
   "metadata": {},
   "source": [
    "## Non-dimensionalization:\n"
   ]
  },
  {
   "cell_type": "markdown",
   "id": "a25b06e7-76dd-475e-9553-29b689697710",
   "metadata": {},
   "source": [
    "Starting dimensional system:\n",
    "\n",
    "\\\n",
    "\\begin{aligned}\n",
    "\\frac{dC}{dt} &= V_c + W_c + X_m M - (P_c + O_c)C, \\\\\n",
    "\\frac{dM}{dt} &= W_m - X_m M, \\\\\n",
    "\\frac{dN}{dt} &= W_n - O_n N, \\\\\n",
    "\\frac{dW}{dt} &= V_w + E_w + 2X_m M - R_w W.\n",
    "\\end{aligned}\n",
    "\n"
   ]
  },
  {
   "cell_type": "markdown",
   "id": "600c653d-da79-494b-9939-c253562bc7eb",
   "metadata": {},
   "source": [
    "Define non-dimensional variables as,\n",
    "\n",
    "$$\n",
    "C = [C]\\,C^*, \\quad \n",
    "M = [M]\\,M^*, \\quad \n",
    "N = [N]\\,N^*, \\quad \n",
    "W = [W]\\,W^*, \\quad \n",
    "t = [t]\\,t^*.\n",
    "$$"
   ]
  },
  {
   "cell_type": "markdown",
   "id": "33316d2c-f5d6-4062-ab38-36a2e8535dd0",
   "metadata": {},
   "source": [
    "Substituting into the governing equations,\n",
    "\n",
    "\n",
    "\\begin{aligned}\n",
    "\\frac{[C]}{[t]}\\frac{dC^*}{dt^*} &= V_c + W_c + X_m[M]M^* - (P_c + O_c)[C]C^*, \\\\\n",
    "\\frac{[M]}{[t]}\\frac{dM^*}{dt^*} &= W_m - X_m[M]M^*, \\\\\n",
    "\\frac{[N]}{[t]}\\frac{dN^*}{dt^*} &= W_n - O_n[N]N^*, \\\\\n",
    "\\frac{[W]}{[t]}\\frac{dW^*}{dt^*} &= V_w + E_w + 2X_m[M]M^* - R_w[W]W^*.\n",
    "\\end{aligned}\n"
   ]
  },
  {
   "cell_type": "markdown",
   "id": "224ec966-14b8-496f-802e-f851bb9d3c93",
   "metadata": {},
   "source": [
    "On simplifying, that is, dividing the respective equations by the coefficients of the derivative we get,\n",
    "\n",
    "\n",
    "\\begin{aligned}\n",
    "\\frac{dC^*}{dt^*} &= V_c\\frac{[t]}{[C]} + W_c\\frac{[t]}{[C]} \n",
    "+ X_m\\frac{[M][t]}{[C]}M^* - (P_c + O_c)[t]C^*, \\\\\n",
    "\\frac{dM^*}{dt^*} &= W_m\\frac{[t]}{[M]} - X_m[t]M^*, \\\\\n",
    "\\frac{dN^*}{dt^*} &= W_n\\frac{[t]}{[N]} - O_n[t]N^*, \\\\\n",
    "\\frac{dW^*}{dt^*} &= V_w\\frac{[t]}{[W]} + E_w\\frac{[t]}{[W]} \n",
    "+ 2X_m\\frac{[M][t]}{[W]}M^* - R_w[t]W^*.\n",
    "\\end{aligned}\n"
   ]
  },
  {
   "cell_type": "markdown",
   "id": "dca568a2-e78d-449b-901d-f9b00bf66c98",
   "metadata": {},
   "source": [
    "Now, we choose the time scale. Let \n",
    "\n",
    "$$\n",
    "[t] = \\frac{1}{P_c + O_c}.\n",
    "$$"
   ]
  },
  {
   "cell_type": "markdown",
   "id": "faa83e82-aedb-4ef5-b97e-d86d5da3a484",
   "metadata": {},
   "source": [
    "We can then substitute $[t]$ to get\n",
    "\n",
    "\n",
    "\\begin{aligned}\n",
    "\\frac{dC^*}{dt^*} &= \\frac{V_c + W_c}{(P_c + O_c)[C]} \n",
    "+ \\frac{X_m[M]M^*}{(P_c + O_c)[C]} - C^*, \\\\\n",
    "\\frac{dM^*}{dt^*} &= \\frac{W_m}{(P_c + O_c)[M]} - \\frac{X_m}{P_c + O_c}M^*, \\\\\n",
    "\\frac{dN^*}{dt^*} &= \\frac{W_n}{(P_c + O_c)[N]} - \\frac{O_n}{P_c + O_c}N^*, \\\\\n",
    "\\frac{dW^*}{dt^*} &= \\frac{V_w}{(P_c + O_c)[W]} \n",
    "+ \\frac{E_w}{(P_c + O_c)[W]} \n",
    "+ \\frac{2X_m[M]M^*}{(P_c + O_c)[W]} - \\frac{R_w}{P_c + O_c}W^*.\n",
    "\\end{aligned}\n"
   ]
  },
  {
   "cell_type": "markdown",
   "id": "57d6499a-1a1c-4965-971f-17d524cf88a6",
   "metadata": {},
   "source": [
    "Let the concentration scales be\n",
    "\n",
    "$$\n",
    "[C] = \\frac{V_c + W_c}{P_c + O_c}, \\quad\n",
    "[M] = \\frac{W_m}{P_c + O_c}, \\quad\n",
    "[N] = \\frac{W_n}{P_c + O_c}, \\quad\n",
    "[W] = \\frac{V_w + E_w}{P_c + O_c}.\n",
    "$$"
   ]
  },
  {
   "cell_type": "markdown",
   "id": "8af00fbc-8779-45a1-bf66-5ef28c84fb84",
   "metadata": {},
   "source": [
    "**Therefore, the final non-dimensionalized form is**\n",
    "\n",
    "$$\n",
    "\\begin{aligned}\n",
    "\\frac{dC^*}{dt^*} &= 1 + \n",
    "\\frac{X_m[M]M^*}{V_c + W_c} - C^*, \\\\\n",
    "\\frac{dM^*}{dt^*} &= 1 - \n",
    "\\frac{X_m}{P_c + O_c}M^*, \\\\\n",
    "\\frac{dN^*}{dt^*} &= 1 - \n",
    "\\frac{O_n}{P_c + O_c}N^*, \\\\\n",
    "\\frac{dW^*}{dt^*} &= 1 + \n",
    "\\frac{2X_m W_m M^*}{(P_c + O_c)(V_w + E_w)} - \n",
    "\\frac{R_w}{P_c + O_c}W^*.\n",
    "\\end{aligned}\n",
    "$$"
   ]
  },
  {
   "cell_type": "markdown",
   "id": "c3a50e63-eb47-4f75-b8cb-9c5c709a8fc6",
   "metadata": {},
   "source": [
    "where the initial conditions are as follows:\n",
    "\n",
    "$$\n",
    "\\begin{aligned}\n",
    "C^*(0) &= \\frac{C_0(P_c + O_c)}{V_c + W_c}, \\\\\n",
    "M^*(0) &= \\frac{M_0(P_c + O_c)}{W_m}, \\\\\n",
    "N^*(0) &= \\frac{N_0(P_c + O_c)}{W_n}, \\\\\n",
    "W^*(0) &= \\frac{W_0(P_c + O_c)}{V_w + E_w}.\n",
    "\\end{aligned}\n",
    "$$"
   ]
  },
  {
   "cell_type": "code",
   "execution_count": 12,
   "id": "9a8ab5d3-1d0f-4867-bd8f-274fad292e53",
   "metadata": {},
   "outputs": [],
   "source": [
    "Vc, Vw = 0.036, 0.2                    # volcano source rates\n",
    "Wc, Wm, Wn = 0.58, 0.00458, 0.00004           # wetland source rates\n",
    "Ew = 25.291                             # evaporation source rate\n",
    "Xm = 1/12                             # methane oxidation rate\n",
    "Oc, On = 0.00288, 0.00312                    # ocean absorbtion rate\n",
    "Pc = 0.08                             # plant uptake rate\n",
    "Rw = 24.233                             # precipitation removal rate\n",
    "C0, M0, N0, W0 = 422.9, 1.92, 0.33, 4000.  # initial gas concentrations\n",
    "\n",
    "# nondimensionalized parameters\n",
    "\n",
    "C_units = (Vc+Wc)/(Oc+Pc)\n",
    "M_units = Wm/(Oc+Pc)\n",
    "N_units = Wn/(Oc+Pc)\n",
    "W_units = (Vw+Ew)/(Oc+Pc)\n",
    "\n",
    "alpha = Xm/(Vc+Wc) * M_units\n",
    "beta = Xm/(Oc+Pc)\n",
    "gamma = On/(Oc+Pc)\n",
    "omega = 2*Xm/(Vw+Ew) * M_units\n",
    "sigma = Rw/(Oc+Pc)\n",
    "\n",
    "C_star0 = C0 / C_units\n",
    "M_star0 = M0 / M_units\n",
    "N_star0 = N0 / N_units\n",
    "W_star0 = W0 / W_units"
   ]
  },
  {
   "cell_type": "code",
   "execution_count": 13,
   "id": "d0ec9390-2a76-4021-b560-0719841bbd1b",
   "metadata": {},
   "outputs": [],
   "source": [
    "# u[0] = C*, u[1] = M*, u[2] = N*, u[3] = W*\n",
    "def f(u,t):\n",
    "    dudt = np.zeros(4)\n",
    "    dudt[0] = 1 + alpha*u[1] - u[0]\n",
    "    dudt[1] = 1 - beta*u[1]\n",
    "    dudt[2] = 1 - gamma*u[2]\n",
    "    dudt[3] = 1 + omega*u[1] - sigma*u[3]\n",
    "    return dudt"
   ]
  },
  {
   "cell_type": "code",
   "execution_count": 17,
   "id": "a44bc6aa-c56a-4f31-9ce3-f24a066fe844",
   "metadata": {},
   "outputs": [
    {
     "data": {
      "image/png": "[encoded data removed]",
      "text/plain": [
       "<Figure size 640x480 with 1 Axes>"
      ]
     },
     "metadata": {},
     "output_type": "display_data"
    }
   ],
   "source": [
    "u0 = [C_star0, M_star0, N_star0, W_star0]\n",
    "t = np.linspace(0,2000,10000)\n",
    "u = spi.odeint(f,u0,t)\n",
    "\n",
    "plt.plot(t,u[:,0],'r')\n",
    "plt.plot(t,u[:,1],'-k')\n",
    "plt.plot(t,u[:,2],':g')\n",
    "plt.plot(t,u[:,3],'-.b')\n",
    "plt.title('Concentration of Gases in Atmosphere over Time')\n",
    "plt.xlabel('time')\n",
    "plt.ylabel('concentration of gas in atmosphere')\n",
    "plt.legend(['CO2','CH4','N20','H2O'])\n",
    "plt.show()"
   ]
  },
  {
   "cell_type": "code",
   "execution_count": null,
   "id": "ad750a1e-a2e7-489f-a428-47fada231217",
   "metadata": {},
   "outputs": [],
   "source": []
  }
 ],
 "metadata": {
  "kernelspec": {
   "display_name": "Python 3 (ipykernel)",
   "language": "python",
   "name": "python3"
  },
  "language_info": {
   "codemirror_mode": {
    "name": "ipython",
    "version": 3
   },
   "file_extension": ".py",
   "mimetype": "text/x-python",
   "name": "python",
   "nbconvert_exporter": "python",
   "pygments_lexer": "ipython3",
   "version": "3.13.5"
  }
 },
 "nbformat": 4,
 "nbformat_minor": 5
}
