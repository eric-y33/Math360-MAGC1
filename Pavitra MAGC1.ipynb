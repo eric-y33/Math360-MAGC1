{
 "cells": [
  {
   "cell_type": "markdown",
   "id": "649e48e8-a0d1-4d7d-9904-619019238c50",
   "metadata": {},
   "source": [
    "# Modelling Assignment 1"
   ]
  },
  {
   "cell_type": "code",
   "execution_count": 1,
   "id": "85fb2378-40ec-4ae3-a5a6-b5fe26d3e871",
   "metadata": {},
   "outputs": [
    {
     "name": "stdout",
     "output_type": "stream",
     "text": [
      "packages imported\n"
     ]
    }
   ],
   "source": [
    "#import packages\n",
    "import numpy as np\n",
    "import matplotlib.pyplot as plt\n",
    "import pandas as pd\n",
    "\n",
    "print(\"packages imported\")"
   ]
  },
  {
   "cell_type": "markdown",
   "id": "c4dd6d78-aa09-4dd3-b80b-059cfb07970d",
   "metadata": {},
   "source": [
    "## Problem Statement\n",
    "\n",
    "Construct a deterministic mathematical model that describes how the concentrations of the four major greenhouse gases, namely, carbon dioxide (CO2), methane (CH4), nitrous oxide (N2O), and water vapour (H2O) change over time in Earth’s atmosphere.\n",
    "The model must account for natural (volcanoes, wetlands, oceans, plants) processes that add or remove these gases, forming a dynamic balance that governs atmospheric greenhouse gas levels."
   ]
  },
  {
   "cell_type": "markdown",
   "id": "6c1ead3d-f654-4b92-9ebb-7dbfee5bb3b5",
   "metadata": {},
   "source": [
    "## Variables (time-dependent quantities):\n",
    "- $C(t)$: concentration of $CO_2$ (ppm)\n",
    "- $M(t)$: concentration of $CH_4$ (ppm)\n",
    "- $N(t)$: concentration of $N_2 O$ (ppm)\n",
    "- $W(t)$: concentration of $H_2 O$ (ppm)\n",
    "\n",
    "## Parameters (constants and coefficients):\n",
    "- $V_c, V_w$: volcanic source rates of $CO_2, H_2 O$\n",
    "- $W_c, W_m, W_n$: wetland source rates of $CO_2, CH_4, N_2 O$\n",
    "- $E_w$: net evaporation source rate of $H_2 O$\n",
    "- $X_m$: loss rate of methane by oxidation\n",
    "- $O_c, O_n$: ocean absorption rate constant for $CO_2, N_2 O$\n",
    "- $P_c$: plant uptake rate constant for $CO_2$\n",
    "- $R_w$: precipitation removal rate of water\n",
    "- $C_0, M_0, N_O, W_0$: initial concentration of $CO_2, CH_4, N_2 O, H_2 O$"
   ]
  },
  {
   "cell_type": "code",
   "execution_count": null,
   "id": "d76ce990-f788-46c2-9cb6-623701f802b7",
   "metadata": {},
   "outputs": [],
   "source": []
  }
 ],
 "metadata": {
  "kernelspec": {
   "display_name": "Python 3 (ipykernel)",
   "language": "python",
   "name": "python3"
  },
  "language_info": {
   "codemirror_mode": {
    "name": "ipython",
    "version": 3
   },
   "file_extension": ".py",
   "mimetype": "text/x-python",
   "name": "python",
   "nbconvert_exporter": "python",
   "pygments_lexer": "ipython3",
   "version": "3.13.5"
  }
 },
 "nbformat": 4,
 "nbformat_minor": 5
}
